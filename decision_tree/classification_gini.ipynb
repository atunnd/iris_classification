{
 "cells": [
  {
   "cell_type": "code",
   "execution_count": 54,
   "metadata": {},
   "outputs": [
    {
     "name": "stdout",
     "output_type": "stream",
     "text": [
      "           age  income student credit_rate default\n",
      "0        youth    high      no        fair      no\n",
      "1        youth    high      no   excellent      no\n",
      "2   middle_age    high      no        fair     yes\n",
      "3       senior  medium      no        fair     yes\n",
      "4       senior     low     yes        fair     yes\n",
      "5       senior     low     yes   excellent      no\n",
      "6   middle_age     low     yes   excellent     yes\n",
      "7        youth  medium      no        fair      no\n",
      "8        youth     low     yes        fair     yes\n",
      "9       senior  medium     yes        fair     yes\n",
      "10       youth  medium     yes   excellent     yes\n",
      "11  middle_age  medium      no   excellent     yes\n",
      "12  middle_age    high     yes        fair     yes\n",
      "13      senior  medium      no   excellent      no\n"
     ]
    }
   ],
   "source": [
    "import numpy as np\n",
    "import pandas as pd\n",
    "\n",
    "# Defining a simple dataset\n",
    "attribute_names =  ['age', 'income','student', 'credit_rate']\n",
    "class_name = 'default'\n",
    "data1 ={\n",
    "    'age' : ['youth', 'youth', 'middle_age', 'senior', 'senior', 'senior','middle_age', 'youth', 'youth', 'senior', 'youth', 'middle_age','middle_age', 'senior'],\n",
    "    'income' : ['high', 'high', 'high', 'medium', 'low', 'low', 'low', 'medium','low', 'medium', 'medium', 'medium', 'high', 'medium'],\n",
    "    'student' : ['no','no','no','no','yes','yes','yes','no','yes','yes','yes','no','yes','no'],\n",
    "    'credit_rate' : ['fair', 'excellent', 'fair', 'fair', 'fair', 'excellent', 'excellent', 'fair', 'fair', 'fair','excellent', 'excellent', 'fair', 'excellent'],\n",
    "    'default' : ['no', 'no', 'yes', 'yes', 'yes', 'no', 'yes', 'no', 'yes', 'yes','yes', 'yes', 'yes', 'no']\n",
    "}\n",
    "df = pd.DataFrame (data1, columns=data1.keys())\n",
    "print(df)"
   ]
  },
  {
   "cell_type": "code",
   "execution_count": 55,
   "metadata": {},
   "outputs": [
    {
     "name": "stdout",
     "output_type": "stream",
     "text": [
      "['youth' 'middle_age' 'senior']\n",
      "['high' 'medium' 'low']\n",
      "['no' 'yes']\n",
      "['fair' 'excellent']\n"
     ]
    }
   ],
   "source": [
    "# get the unique values for each column\n",
    "features = df.columns[:-1] # not take the last column as it is the target\n",
    "for i in features:\n",
    "    print(df[i].unique())"
   ]
  },
  {
   "cell_type": "code",
   "execution_count": 141,
   "metadata": {},
   "outputs": [
    {
     "name": "stdout",
     "output_type": "stream",
     "text": [
      "age: 0.343\n",
      "{'youth': 0.48, 'middle_age': 0.0, 'senior': 0.48}\n",
      "{'youth': {'no': 0.6, 'yes': 0.4}, 'middle_age': {'no': 0.0, 'yes': 1.0}, 'senior': {'no': 0.4, 'yes': 0.6}}\n",
      "income: 0.44\n",
      "{'high': 0.5, 'medium': 0.4444444444444444, 'low': 0.375}\n",
      "{'high': {'no': 0.5, 'yes': 0.5}, 'medium': {'no': 0.3333333333333333, 'yes': 0.6666666666666666}, 'low': {'no': 0.25, 'yes': 0.75}}\n",
      "student: 0.367\n",
      "{'no': 0.48979591836734704, 'yes': 0.24489795918367352}\n",
      "{'no': {'no': 0.5714285714285714, 'yes': 0.42857142857142855}, 'yes': {'no': 0.14285714285714285, 'yes': 0.8571428571428571}}\n",
      "credit_rate: 0.429\n",
      "{'fair': 0.375, 'excellent': 0.5}\n",
      "{'fair': {'no': 0.25, 'yes': 0.75}, 'excellent': {'no': 0.5, 'yes': 0.5}}\n"
     ]
    }
   ],
   "source": [
    "# Calculate the gini impurity of each column and the target\n",
    "\n",
    "def compute_gini(df, col_name):\n",
    "    values = df[col_name].unique() \n",
    "    targets = df.iloc[:, -1].unique() \n",
    "    total_df= len(df[col_name])\n",
    "\n",
    "    count = {}\n",
    "    gini = {}\n",
    "    # create dictionary for count each value with yes/no and storing gini score\n",
    "    for value in values:\n",
    "        count_target = {}\n",
    "        for target in targets:\n",
    "            count_target[target] = 0.\n",
    "        count[value] = count_target\n",
    "        gini[value] = 0.\n",
    "    # count each value for yes/no\n",
    "    for idx, value in enumerate(df[col_name]):\n",
    "        count[value][df.iloc[idx, -1]] += 1\n",
    "\n",
    "    total_gini = 0\n",
    "\n",
    "    # calculate probability & gini score\n",
    "    for key, value in count.items():\n",
    "        total = 0\n",
    "        sum_prob = 0\n",
    "        for _, target in value.items():\n",
    "            total += target\n",
    "        for target in value.keys():\n",
    "            count[key][target] /= total\n",
    "            sum_prob += (count[key][target])**2\n",
    "        gini[key] = 1 - sum_prob # gini for each value\n",
    "        total_gini += (total/total_df)*(gini[key])\n",
    "\n",
    "    return round(total_gini, 3), gini,count\n",
    "\n",
    "gini = {}\n",
    "for col in features:\n",
    "    gini_score, gini, prob = compute_gini(df, col)\n",
    "    print(f'{col}: {gini_score}')\n",
    "    print(gini)\n",
    "    print(prob)\n"
   ]
  },
  {
   "cell_type": "code",
   "execution_count": null,
   "metadata": {},
   "outputs": [],
   "source": []
  }
 ],
 "metadata": {
  "kernelspec": {
   "display_name": "anhHop",
   "language": "python",
   "name": "python3"
  },
  "language_info": {
   "codemirror_mode": {
    "name": "ipython",
    "version": 3
   },
   "file_extension": ".py",
   "mimetype": "text/x-python",
   "name": "python",
   "nbconvert_exporter": "python",
   "pygments_lexer": "ipython3",
   "version": "3.11.5"
  }
 },
 "nbformat": 4,
 "nbformat_minor": 2
}
