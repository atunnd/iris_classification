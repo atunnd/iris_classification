{
 "cells": [
  {
   "cell_type": "markdown",
   "metadata": {},
   "source": [
    "In this notebook, I try to reproduce the KNN classifier with Iris on python code and compare to the KNN in scikit-learn"
   ]
  },
  {
   "cell_type": "markdown",
   "metadata": {},
   "source": [
    "KNN procedures \n",
    "1. Initialize the value of K\n",
    "2. Calculate the distance between test data and each row of training dataset\n",
    "3. Sort the calculated distances in asceding oder based on distance values\n",
    "4. Get top K rows from sorted array\n",
    "5. Get the most frequen class of these rows\n",
    "6. Return the predicted class"
   ]
  },
  {
   "cell_type": "code",
   "execution_count": 498,
   "metadata": {},
   "outputs": [],
   "source": [
    "import numpy as np\n",
    "from sklearn import datasets\n",
    "from sklearn.metrics import accuracy_score\n",
    "from sklearn.model_selection import train_test_split\n",
    "import pandas as pd"
   ]
  },
  {
   "cell_type": "code",
   "execution_count": 499,
   "metadata": {},
   "outputs": [],
   "source": [
    "iris_data = datasets.load_iris()\n",
    "iris_features = iris_data['data']\n",
    "iris_labels = iris_data['target']"
   ]
  },
  {
   "cell_type": "code",
   "execution_count": 500,
   "metadata": {},
   "outputs": [],
   "source": [
    "x_train, x_test, y_train, y_test = train_test_split(iris_features, iris_labels, test_size=0.2, random_state=42)"
   ]
  },
  {
   "cell_type": "code",
   "execution_count": 501,
   "metadata": {},
   "outputs": [],
   "source": [
    "class KNN():\n",
    "    \n",
    "    def __init__(self, n_neighbors = 5, distance_metric='minkowski', algorithm_neighbors='brute', weight='uniform', p=2):\n",
    "        assert distance_metric in ['minkowski'], 'Metric not found! Plase choose the metric from the list: minskowski'\n",
    "        self.n_neighbors = n_neighbors\n",
    "        self.distance_metric = distance_metric\n",
    "        self.algorithm_neighbors = algorithm_neighbors\n",
    "        self.weight = weight\n",
    "        self.p = p\n",
    "    \n",
    "    def __str__(self):\n",
    "        return (f'KNN(n_neighbors = {self.n_neighbors}, distance_metric = {self.distance_metric}, p = {self.p}, algorithm_neighbors = {self.algorithm_neighbors}, weight = {self.weight})')\n",
    "    \n",
    "    def fit(self, x, y):\n",
    "        self.x = x\n",
    "        self.y = y\n",
    "    \n",
    "    # Calculate distance between train data and test data. The result will be assigned to a 'distance' column\n",
    "    def calculate_distance(self, df, test_data, features_name):\n",
    "        if self.distance_metric == 'minkowski':\n",
    "            df['distance'] = pow(pow((df[features_name] - test_data), self.p).sum(axis=1), 1/self.p)\n",
    "            df_neighbors_filter = df.sort_values(by=['distance'], ascending=True)[:self.n_neighbors]\n",
    "            return df_neighbors_filter\n",
    "    \n",
    "    # Create predicted label\n",
    "    def create_label(self, df, unique_label):\n",
    "        labels = np.zeros((len(unique_label), 1))\n",
    "        for label in df['label']:\n",
    "            labels[label] += 1\n",
    "        return np.argmax(labels)\n",
    "\n",
    "    # predict new data\n",
    "    def predict(self, test_data):\n",
    "        y_pred = []\n",
    "        features_name = [f'Feature_{i}' for i in range(self.x.shape[1])]\n",
    "        df = pd.DataFrame(data=self.x, columns=features_name)\n",
    "        df['label'] = self.y\n",
    "        unique_label = df['label'].unique()\n",
    "        \n",
    "        for i in test_data:\n",
    "            df_filter = self.calculate_distance(df, i, features_name)\n",
    "            print(df_filter)\n",
    "            prediction = self.create_label(df_filter, unique_label)\n",
    "            print(f'Prediction: {prediction}')\n",
    "            y_pred.append(prediction)\n",
    "        \n",
    "        return y_pred\n",
    "\n",
    "        "
   ]
  },
  {
   "cell_type": "code",
   "execution_count": 502,
   "metadata": {},
   "outputs": [],
   "source": [
    "n_neighbors = 3\n",
    "distance_metric = 'minkowski'\n",
    "algorithm_neighbors = 'brute'\n",
    "weight = 'uniform'\n",
    "p = 2"
   ]
  },
  {
   "cell_type": "code",
   "execution_count": 503,
   "metadata": {},
   "outputs": [],
   "source": [
    "knn_classifier = KNN(n_neighbors, distance_metric, algorithm_neighbors, weight, p)\n",
    "knn_classifier.fit(x_train, y_train)"
   ]
  },
  {
   "cell_type": "code",
   "execution_count": 504,
   "metadata": {},
   "outputs": [
    {
     "name": "stdout",
     "output_type": "stream",
     "text": [
      "KNN(n_neighbors = 3, distance_metric = minkowski, p = 2, algorithm_neighbors = brute, weight = uniform)\n"
     ]
    }
   ],
   "source": [
    "print(knn_classifier)"
   ]
  },
  {
   "cell_type": "code",
   "execution_count": 505,
   "metadata": {},
   "outputs": [
    {
     "name": "stdout",
     "output_type": "stream",
     "text": [
      "    Feature_0  Feature_1  Feature_2  Feature_3  label  distance\n",
      "79        6.1        2.9        4.7        1.4      1  0.223607\n",
      "90        6.1        3.0        4.6        1.4      1  0.300000\n",
      "39        6.2        2.9        4.3        1.3      1  0.435890\n",
      "Prediction: 1\n",
      "    Feature_0  Feature_1  Feature_2  Feature_3  label  distance\n",
      "48        5.4        3.9        1.7        0.4      0  0.331662\n",
      "14        5.4        3.7        1.5        0.2      0  0.387298\n",
      "94        5.3        3.7        1.5        0.2      0  0.469042\n",
      "Prediction: 0\n",
      "    Feature_0  Feature_1  Feature_2  Feature_3  label  distance\n",
      "24        7.7        2.8        6.7        2.0      2  0.412311\n",
      "21        7.6        3.0        6.6        2.1      2  0.547723\n",
      "64        7.7        3.0        6.1        2.3      2  0.894427\n",
      "Prediction: 2\n",
      "    Feature_0  Feature_1  Feature_2  Feature_3  label  distance\n",
      "90        6.1        3.0        4.6        1.4      1  0.200000\n",
      "79        6.1        2.9        4.7        1.4      1  0.244949\n",
      "86        5.9        3.0        4.2        1.5      1  0.331662\n",
      "Prediction: 1\n",
      "     Feature_0  Feature_1  Feature_2  Feature_3  label  distance\n",
      "92         6.6        2.9        4.6        1.3      1  0.316228\n",
      "12         6.7        3.1        4.7        1.5      1  0.346410\n",
      "105        6.9        3.1        4.9        1.5      1  0.346410\n",
      "Prediction: 1\n",
      "     Feature_0  Feature_1  Feature_2  Feature_3  label  distance\n",
      "114        5.4        3.4        1.7        0.2      0  0.282843\n",
      "7          5.2        3.5        1.5        0.2      0  0.300000\n",
      "26         5.2        3.4        1.4        0.2      0  0.300000\n",
      "Prediction: 0\n",
      "     Feature_0  Feature_1  Feature_2  Feature_3  label  distance\n",
      "88         5.7        2.6        3.5        1.0      1  0.447214\n",
      "95         5.6        3.0        4.1        1.3      1  0.509902\n",
      "108        5.7        2.8        4.1        1.3      1  0.519615\n",
      "Prediction: 1\n",
      "    Feature_0  Feature_1  Feature_2  Feature_3  label  distance\n",
      "85        6.9        3.1        5.4        2.1      2  0.360555\n",
      "76        6.8        3.0        5.5        2.1      2  0.469042\n",
      "87        6.5        3.0        5.2        2.0      2  0.519615\n",
      "Prediction: 2\n",
      "     Feature_0  Feature_1  Feature_2  Feature_3  label  distance\n",
      "110        6.3        2.3        4.4        1.3      1  0.264575\n",
      "73         6.3        2.5        4.9        1.5      1  0.509902\n",
      "68         6.0        2.2        5.0        1.5      2  0.538516\n",
      "Prediction: 1\n",
      "     Feature_0  Feature_1  Feature_2  Feature_3  label  distance\n",
      "118        5.8        2.6        4.0        1.2      1  0.141421\n",
      "108        5.7        2.8        4.1        1.3      1  0.264575\n",
      "25         5.8        2.7        4.1        1.0      1  0.282843\n",
      "Prediction: 1\n",
      "    Feature_0  Feature_1  Feature_2  Feature_3  label  distance\n",
      "87        6.5        3.0        5.2        2.0      2  0.223607\n",
      "83        6.4        3.2        5.3        2.3      2  0.374166\n",
      "54        6.7        3.0        5.0        1.7      1  0.424264\n",
      "Prediction: 2\n",
      "     Feature_0  Feature_1  Feature_2  Feature_3  label  distance\n",
      "104        4.9        3.0        1.4        0.2      0  0.141421\n",
      "55         4.9        3.1        1.5        0.2      0  0.200000\n",
      "78         4.7        3.2        1.3        0.2      0  0.264575\n",
      "Prediction: 0\n",
      "    Feature_0  Feature_1  Feature_2  Feature_3  label  distance\n",
      "14        5.4        3.7        1.5        0.2      0  0.300000\n",
      "26        5.2        3.4        1.4        0.2      0  0.331662\n",
      "94        5.3        3.7        1.5        0.2      0  0.346410\n",
      "Prediction: 0\n",
      "     Feature_0  Feature_1  Feature_2  Feature_3  label  distance\n",
      "55         4.9        3.1        1.5        0.2      0  0.100000\n",
      "104        4.9        3.0        1.4        0.2      0  0.173205\n",
      "32         5.0        3.0        1.6        0.2      0  0.200000\n",
      "Prediction: 0\n",
      "    Feature_0  Feature_1  Feature_2  Feature_3  label  distance\n",
      "98        5.1        3.7        1.5        0.4      0  0.141421\n",
      "84        5.1        3.8        1.6        0.2      0  0.141421\n",
      "94        5.3        3.7        1.5        0.2      0  0.244949\n",
      "Prediction: 0\n",
      "    Feature_0  Feature_1  Feature_2  Feature_3  label  distance\n",
      "6         6.4        3.2        4.5        1.5      1  0.264575\n",
      "11        6.0        3.4        4.5        1.6      1  0.374166\n",
      "90        6.1        3.0        4.6        1.4      1  0.424264\n",
      "Prediction: 1\n",
      "     Feature_0  Feature_1  Feature_2  Feature_3  label  distance\n",
      "103        6.7        3.1        5.6        2.4      2  0.360555\n",
      "97         6.7        3.3        5.7        2.1      2  0.387298\n",
      "76         6.8        3.0        5.5        2.1      2  0.435890\n",
      "Prediction: 2\n",
      "    Feature_0  Feature_1  Feature_2  Feature_3  label  distance\n",
      "53        5.5        2.4        3.8        1.1      1  0.173205\n",
      "65        5.5        2.5        4.0        1.3      1  0.244949\n",
      "15        5.5        2.4        3.7        1.0      1  0.264575\n",
      "Prediction: 1\n",
      "    Feature_0  Feature_1  Feature_2  Feature_3  label  distance\n",
      "22        5.6        3.0        4.5        1.5      1  0.300000\n",
      "93        5.5        2.6        4.4        1.2      1  0.316228\n",
      "20        5.7        2.9        4.2        1.3      1  0.316228\n",
      "Prediction: 1\n",
      "     Feature_0  Feature_1  Feature_2  Feature_3  label  distance\n",
      "107        6.3        2.9        5.6        1.8      2  0.424264\n",
      "50         6.4        2.7        5.3        1.9      2  0.435890\n",
      "76         6.8        3.0        5.5        2.1      2  0.469042\n",
      "Prediction: 2\n",
      "    Feature_0  Feature_1  Feature_2  Feature_3  label  distance\n",
      "70        4.6        3.1        1.5        0.2      0  0.173205\n",
      "3         4.8        3.4        1.6        0.2      0  0.223607\n",
      "38        4.6        3.2        1.4        0.2      0  0.223607\n",
      "Prediction: 0\n",
      "     Feature_0  Feature_1  Feature_2  Feature_3  label  distance\n",
      "42         6.0        3.0        4.8        1.8      2  0.141421\n",
      "81         6.2        2.8        4.8        1.8      2  0.244949\n",
      "113        5.9        3.0        5.1        1.8      2  0.282843\n",
      "Prediction: 2\n",
      "    Feature_0  Feature_1  Feature_2  Feature_3  label  distance\n",
      "33        5.1        3.3        1.7        0.5      0  0.200000\n",
      "58        5.0        3.5        1.6        0.6      0  0.223607\n",
      "57        5.0        3.4        1.5        0.2      0  0.223607\n",
      "Prediction: 0\n",
      "     Feature_0  Feature_1  Feature_2  Feature_3  label  distance\n",
      "107        6.3        2.9        5.6        1.8      2  0.331662\n",
      "50         6.4        2.7        5.3        1.9      2  0.374166\n",
      "109        6.5        3.0        5.5        1.8      2  0.387298\n",
      "Prediction: 2\n",
      "    Feature_0  Feature_1  Feature_2  Feature_3  label  distance\n",
      "37        7.7        3.8        6.7        2.2      2  0.412311\n",
      "21        7.6        3.0        6.6        2.1      2  0.883176\n",
      "64        7.7        3.0        6.1        2.3      2  0.927362\n",
      "Prediction: 2\n",
      "    Feature_0  Feature_1  Feature_2  Feature_3  label  distance\n",
      "87        6.5        3.0        5.2        2.0      2  0.360555\n",
      "85        6.9        3.1        5.4        2.1      2  0.360555\n",
      "76        6.8        3.0        5.5        2.1      2  0.374166\n",
      "Prediction: 2\n",
      "     Feature_0  Feature_1  Feature_2  Feature_3  label  distance\n",
      "107        6.3        2.9        5.6        1.8      2  0.600000\n",
      "109        6.5        3.0        5.5        1.8      2  0.616441\n",
      "50         6.4        2.7        5.3        1.9      2  0.624500\n",
      "Prediction: 2\n",
      "     Feature_0  Feature_1  Feature_2  Feature_3  label  distance\n",
      "61         6.9        3.2        5.7        2.3      2  0.223607\n",
      "97         6.7        3.3        5.7        2.1      2  0.316228\n",
      "100        6.7        3.3        5.7        2.5      2  0.316228\n",
      "Prediction: 2\n",
      "     Feature_0  Feature_1  Feature_2  Feature_3  label  distance\n",
      "104        4.9        3.0        1.4        0.2      0  0.141421\n",
      "55         4.9        3.1        1.5        0.2      0  0.200000\n",
      "78         4.7        3.2        1.3        0.2      0  0.264575\n",
      "Prediction: 0\n",
      "    Feature_0  Feature_1  Feature_2  Feature_3  label  distance\n",
      "55        4.9        3.1        1.5        0.2      0  0.141421\n",
      "32        5.0        3.0        1.6        0.2      0  0.223607\n",
      "70        4.6        3.1        1.5        0.2      0  0.223607\n",
      "Prediction: 0\n"
     ]
    }
   ],
   "source": [
    "y_pred = knn_classifier.predict(x_test)"
   ]
  },
  {
   "cell_type": "code",
   "execution_count": 508,
   "metadata": {},
   "outputs": [
    {
     "name": "stdout",
     "output_type": "stream",
     "text": [
      "[1, 0, 2, 1, 1, 0, 1, 2, 1, 1, 2, 0, 0, 0, 0, 1, 2, 1, 1, 2, 0, 2, 0, 2, 2, 2, 2, 2, 0, 0]\n"
     ]
    }
   ],
   "source": [
    "print(y_pred)"
   ]
  },
  {
   "cell_type": "code",
   "execution_count": 507,
   "metadata": {},
   "outputs": [
    {
     "data": {
      "text/plain": [
       "1.0"
      ]
     },
     "execution_count": 507,
     "metadata": {},
     "output_type": "execute_result"
    }
   ],
   "source": [
    "accuracy_score(y_pred, y_test)"
   ]
  },
  {
   "cell_type": "code",
   "execution_count": null,
   "metadata": {},
   "outputs": [],
   "source": []
  }
 ],
 "metadata": {
  "kernelspec": {
   "display_name": "anhHop",
   "language": "python",
   "name": "python3"
  },
  "language_info": {
   "codemirror_mode": {
    "name": "ipython",
    "version": 3
   },
   "file_extension": ".py",
   "mimetype": "text/x-python",
   "name": "python",
   "nbconvert_exporter": "python",
   "pygments_lexer": "ipython3",
   "version": "3.11.5"
  }
 },
 "nbformat": 4,
 "nbformat_minor": 2
}
